{
 "cells": [
  {
   "cell_type": "markdown",
   "metadata": {},
   "source": [
    "# Information about this takehome\n",
    "\n",
    "Howdy! Thanks for taking the time to look at this takehome. I would look to provide a little context before you begin. \n",
    "\n",
    "If you have been selected for this takehome, you have passed an initial resume screen. We believe that you have the potential to be the right person for this role. \n",
    "\n",
    "Much of your work as a backend engineer at The Recycling Partnership will look like: \n",
    "1. Be presented with a new challenge\n",
    "2. Work with our product manager to scope the solution\n",
    "3. Perform independent research to identify the best path forward\n",
    "4. Implement your solution \n",
    "\n",
    "This takehome is your opportunity to demonstrate that you have the right technical skills to accomplish that. \n",
    "\n",
    "We have received applications from candidates with a variety of backgrounds. While previous experience will factor into our overall assessment of the candidate, performance on this takehome will play a stronger role in our final decision. The Recycling Partnership is a team of growth-oriented people across all verticals of the organization and we hire accordingly. \n",
    "\n",
    "For candidates with backgrounds that differ from the job description (e.g., primarily frontend or data engineering experience, limited professional docker or python experience, fewer years of experience, etc.) this is your chance to shine. If you're unfamiliar with a concept, hop on google or youtube and start learning. \n",
    "\n",
    "**A few pointers to stand out**\n",
    "* Pythonic docstrings are always good. We use numpy style docstrings at The Partnership\n",
    "* A demonstration of basic best practices like error handling and input validation. This is especially important for candidates with limited professional backend experience\n",
    "* A multi-stage build and/or a docker compose file. This will especially strengthen the application of a candidate with limited professional docker experience\n",
    "* There are multiple pythonic solutions to Part 3. Examples of multiple approaches will strengthen any application but are especially beneficial to candidates with limited professional experience or limited python experience. If you do go this route, be ready to discuss their tradeoffs when you meet with your technical interviewer"
   ]
  },
  {
   "cell_type": "markdown",
   "metadata": {},
   "source": [
    "# Note about submission\n",
    "\n",
    "Please zip this notebook, the flask app, sqlite database, docker file, and any other relevant files into a single zip file for your submission"
   ]
  },
  {
   "cell_type": "markdown",
   "metadata": {},
   "source": [
    "# Part 1a.\n",
    "\n",
    "### Create a simple pet tracking flask app that uses sqlalchemy to write to a sqlite database.\n",
    "\n",
    "We would like to create a simple backend that allows us to track a list of pets. Pets are objects with a unique ID, a string name, and a string species.\n",
    "\n",
    "```\n",
    "{\n",
    "    \"id\": <int: unique ID>,\n",
    "    \"name\": <str: name of the pet>,\n",
    "    \"species\": <str: beed of the pet, one of {“dog”, “cat”}>\n",
    "}\n",
    "```\n",
    "\n",
    "This app will need to do the following:\n",
    "* Allow us to add a pet \n",
    "* Allow us to search a pet by ID and get the entry\n",
    "* Allow us to modify the name or species of an entry with a specified ID\n",
    "* Allow us to delete a pet from the database\n",
    "\n",
    "---\n",
    "\n",
    "### Other requirements\n",
    "1. The `Pet` sqlalchemy object should have the following method: `to_json() -> str` which converts the pet to a json object `{ \"id\": pet.ID, “name”: pet.Name, “species”: pet.Species }`\n",
    "2. When performing `print` on a `Pet` object (e.g. `print(MyPet)`) the output should be `<Pet.ID>: <Pet.Name>, a <Pet.Species>`\n",
    "3. The sqlite database should have only a single table, which includes `ID`, `Name`, `Species`"
   ]
  },
  {
   "cell_type": "markdown",
   "metadata": {},
   "source": [
    "# Part 1b.\n",
    "\n",
    "Explain your HTTP verb choice in 1 to 2 sentences for each of your endpoints."
   ]
  },
  {
   "cell_type": "markdown",
   "metadata": {},
   "source": []
  },
  {
   "cell_type": "markdown",
   "metadata": {},
   "source": [
    "# Part 2a.\n",
    "\n",
    "Write a docker file for your flask app (including the sqlite database). The docker run command will be `docker run -p 8881:8881`"
   ]
  },
  {
   "cell_type": "markdown",
   "metadata": {},
   "source": [
    "# Part 2b.\n",
    "\n",
    "Explain how you would test your backend container locally. Please specify any tools or libraries that you think are relevant, as well as the specific tests that you would perform."
   ]
  },
  {
   "cell_type": "markdown",
   "metadata": {},
   "source": []
  },
  {
   "cell_type": "markdown",
   "metadata": {},
   "source": [
    "# Part 3\n",
    "\n",
    "Re-write the following code to be more performant."
   ]
  },
  {
   "cell_type": "code",
   "execution_count": null,
   "metadata": {},
   "outputs": [],
   "source": [
    "import requests\n",
    "\n",
    "sites = [\n",
    "\t\"http://www.google.com\",\n",
    "\t\"http://www.github.com\",\n",
    "\t\"http://www.youtube.com\",\n",
    "\t\"http://www.facebook.com\",\n",
    "\t\"http://www.yahoo.com\"\n",
    "]\n",
    "\n",
    "def scrape_sites(sites):\n",
    "\tresults = []\n",
    "\n",
    "\tfor site in sites:\n",
    "\t\tr = requests.get(site)\n",
    "\t\tresults.append(r.content)\n",
    "\n",
    "\treturn results\n"
   ]
  },
  {
   "cell_type": "code",
   "execution_count": null,
   "metadata": {},
   "outputs": [],
   "source": [
    "# Your code here"
   ]
  },
  {
   "cell_type": "markdown",
   "metadata": {},
   "source": [
    "# Part 4\n",
    "\n",
    "Describe what happens in the steps between merging a pull request and new code running in production. Feel free to reference any relevant technologies or tools that you've used for things such as CICD pipelines, container registries, hosting, etc."
   ]
  },
  {
   "cell_type": "markdown",
   "metadata": {},
   "source": []
  }
 ],
 "metadata": {
  "interpreter": {
   "hash": "4badd61a3eb0a98b49024dc08b6e569de2eac3230396ff1e691db44e3b600cf6"
  },
  "kernelspec": {
   "display_name": "Python 3.9.5 64-bit",
   "name": "python3"
  },
  "language_info": {
   "codemirror_mode": {
    "name": "ipython",
    "version": 3
   },
   "file_extension": ".py",
   "mimetype": "text/x-python",
   "name": "python",
   "nbconvert_exporter": "python",
   "pygments_lexer": "ipython3",
   "version": "3.8.3"
  },
  "orig_nbformat": 4
 },
 "nbformat": 4,
 "nbformat_minor": 2
}
